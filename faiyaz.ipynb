{
 "cells": [
  {
   "cell_type": "code",
   "execution_count": 29,
   "id": "ca8dc1d3",
   "metadata": {},
   "outputs": [],
   "source": [
    "#importing the data\n",
    "import pandas as pd\n",
    "from sklearn.model_selection import train_test_split\n",
    "from sklearn.metrics import accuracy_score\n",
    "from sklearn.tree import DecisionTreeClassifier\n",
    "from sklearn import tree\n",
    "import joblib\n",
    "\n",
    "music_data = pd.read_csv('music.csv')\n",
    "\n",
    "# #splitting the data\n",
    "X = music_data.drop(columns=['genre'])\n",
    "y= music_data[\"genre\"]\n",
    "\n",
    "# X_train,X_test,y_train,y_test = train_test_split(X,y,test_size=0.2)\n",
    "\n",
    "# #Creating Model\n",
    "\n",
    "model = DecisionTreeClassifier()\n",
    "model.fit(X.values,y.values)\n",
    "tree.export_graphviz(model, out_file='music-recommender.dot', \n",
    "                     feature_names=['age','gender'],\n",
    "                     class_names= sorted(y.unique()),\n",
    "                     label='all',\n",
    "                     rounded=True,\n",
    "                     filled=True)\n",
    "\n",
    "\n",
    "\n",
    "# model=joblib.load('music-recommender.joblib')\n",
    "\n",
    "#Making Predictions\n",
    "# predictions=model.predict([[21,1]])\n",
    "# predictions\n",
    "# score= accuracy_score(y_test,predictions)\n",
    "\n",
    "\n"
   ]
  },
  {
   "cell_type": "code",
   "execution_count": null,
   "id": "cf12c79f",
   "metadata": {},
   "outputs": [],
   "source": []
  },
  {
   "cell_type": "code",
   "execution_count": null,
   "id": "9de67c5f",
   "metadata": {},
   "outputs": [],
   "source": []
  }
 ],
 "metadata": {
  "kernelspec": {
   "display_name": "Python 3 (ipykernel)",
   "language": "python",
   "name": "python3"
  },
  "language_info": {
   "codemirror_mode": {
    "name": "ipython",
    "version": 3
   },
   "file_extension": ".py",
   "mimetype": "text/x-python",
   "name": "python",
   "nbconvert_exporter": "python",
   "pygments_lexer": "ipython3",
   "version": "3.10.9"
  }
 },
 "nbformat": 4,
 "nbformat_minor": 5
}
